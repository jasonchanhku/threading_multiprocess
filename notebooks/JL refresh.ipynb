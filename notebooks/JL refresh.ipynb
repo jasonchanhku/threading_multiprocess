{
 "cells": [
  {
   "cell_type": "markdown",
   "metadata": {},
   "source": [
    "# JL Refresh"
   ]
  },
  {
   "cell_type": "code",
   "execution_count": 65,
   "metadata": {
    "ExecuteTime": {
     "end_time": "2020-01-17T05:53:51.668451Z",
     "start_time": "2020-01-17T05:53:51.326471Z"
    }
   },
   "outputs": [],
   "source": [
    "import sys\n",
    "from joblib import Parallel, delayed\n",
    "sys.path.append(r\"Z:\\comlib\") \n",
    "\n",
    "from utilities import azure_datalake, holiday\n",
    "from stlf.utilities import holiday_class\n",
    "adl = azure_datalake()\n",
    "\n",
    "from math import sqrt\n",
    "import pandas as pd\n",
    "import numpy as np\n",
    "import pickle\n",
    "import yaml"
   ]
  },
  {
   "cell_type": "markdown",
   "metadata": {},
   "source": [
    "# Common Usage"
   ]
  },
  {
   "cell_type": "code",
   "execution_count": 11,
   "metadata": {
    "ExecuteTime": {
     "end_time": "2020-01-17T03:38:51.294113Z",
     "start_time": "2020-01-17T03:38:51.289113Z"
    }
   },
   "outputs": [
    {
     "data": {
      "text/plain": [
       "[0.0, 1.0, 2.0, 3.0, 4.0, 5.0, 6.0, 7.0, 8.0, 9.0]"
      ]
     },
     "execution_count": 11,
     "metadata": {},
     "output_type": "execute_result"
    }
   ],
   "source": [
    "[sqrt(i**2) for i in range(10)]"
   ]
  },
  {
   "cell_type": "code",
   "execution_count": 18,
   "metadata": {
    "ExecuteTime": {
     "end_time": "2020-01-17T03:42:50.616486Z",
     "start_time": "2020-01-17T03:42:50.601483Z"
    }
   },
   "outputs": [
    {
     "data": {
      "text/plain": [
       "[0.0, 1.0, 2.0, 3.0, 4.0, 5.0, 6.0, 7.0, 8.0, 9.0]"
      ]
     },
     "execution_count": 18,
     "metadata": {},
     "output_type": "execute_result"
    }
   ],
   "source": [
    "Parallel(n_jobs=2)(delayed(sqrt)(i**2) for i in range(10))"
   ]
  },
  {
   "cell_type": "code",
   "execution_count": 19,
   "metadata": {
    "ExecuteTime": {
     "end_time": "2020-01-17T03:45:30.911083Z",
     "start_time": "2020-01-17T03:45:30.907083Z"
    }
   },
   "outputs": [
    {
     "data": {
      "text/plain": [
       "<generator object <genexpr> at 0x0000019D3B316E60>"
      ]
     },
     "execution_count": 19,
     "metadata": {},
     "output_type": "execute_result"
    }
   ],
   "source": [
    "# second part is actually a generator , only generator is allowed in JobLib\n",
    "(delayed(sqrt)(i**2) for i in range(10))"
   ]
  },
  {
   "cell_type": "code",
   "execution_count": 20,
   "metadata": {
    "ExecuteTime": {
     "end_time": "2020-01-17T03:45:31.823050Z",
     "start_time": "2020-01-17T03:45:31.817047Z"
    }
   },
   "outputs": [
    {
     "data": {
      "text/plain": [
       "[(<function math.sqrt>, (0,), {}),\n",
       " (<function math.sqrt>, (1,), {}),\n",
       " (<function math.sqrt>, (4,), {}),\n",
       " (<function math.sqrt>, (9,), {}),\n",
       " (<function math.sqrt>, (16,), {}),\n",
       " (<function math.sqrt>, (25,), {}),\n",
       " (<function math.sqrt>, (36,), {}),\n",
       " (<function math.sqrt>, (49,), {}),\n",
       " (<function math.sqrt>, (64,), {}),\n",
       " (<function math.sqrt>, (81,), {})]"
      ]
     },
     "execution_count": 20,
     "metadata": {},
     "output_type": "execute_result"
    }
   ],
   "source": [
    "# in list form\n",
    "[delayed(sqrt)(i**2) for i in range(10)]"
   ]
  },
  {
   "cell_type": "markdown",
   "metadata": {},
   "source": [
    "# Use Case\n",
    "\n",
    "Concat many files into one csv"
   ]
  },
  {
   "cell_type": "code",
   "execution_count": 29,
   "metadata": {
    "ExecuteTime": {
     "end_time": "2020-01-17T05:21:38.930327Z",
     "start_time": "2020-01-17T05:21:38.926326Z"
    }
   },
   "outputs": [],
   "source": [
    "# function to run in parallel \n",
    "def read_pickle(adl, file):\n",
    "    return pickle.load(adl.open(file))"
   ]
  },
  {
   "cell_type": "markdown",
   "metadata": {},
   "source": [
    "## Concat Many Files into One DF"
   ]
  },
  {
   "cell_type": "code",
   "execution_count": 25,
   "metadata": {
    "ExecuteTime": {
     "end_time": "2020-01-17T05:20:48.171961Z",
     "start_time": "2020-01-17T05:20:47.495981Z"
    }
   },
   "outputs": [],
   "source": [
    "all_files  = adl.listdir(\"userzone/innovation/bdt/stlf/actual_temp\")"
   ]
  },
  {
   "cell_type": "code",
   "execution_count": 27,
   "metadata": {
    "ExecuteTime": {
     "end_time": "2020-01-17T05:21:29.522630Z",
     "start_time": "2020-01-17T05:21:29.517629Z"
    }
   },
   "outputs": [],
   "source": [
    "pkl_files = [file for file in all_files if file.split('.')[-1] == 'pkl']"
   ]
  },
  {
   "cell_type": "code",
   "execution_count": 47,
   "metadata": {
    "ExecuteTime": {
     "end_time": "2020-01-17T05:31:26.118151Z",
     "start_time": "2020-01-17T05:31:26.113154Z"
    }
   },
   "outputs": [],
   "source": [
    "# same as above, feed it into a generator, no need to use tuple args, unless below is a list to check\n",
    "args = (delayed(read_pickle)(adl, file) for file in pkl_files)"
   ]
  },
  {
   "cell_type": "code",
   "execution_count": 48,
   "metadata": {
    "ExecuteTime": {
     "end_time": "2020-01-17T05:31:53.557269Z",
     "start_time": "2020-01-17T05:31:37.473784Z"
    }
   },
   "outputs": [
    {
     "name": "stderr",
     "output_type": "stream",
     "text": [
      "[Parallel(n_jobs=64)]: Using backend ThreadingBackend with 64 concurrent workers.\n",
      "[Parallel(n_jobs=64)]: Done  72 tasks      | elapsed:    1.1s\n",
      "[Parallel(n_jobs=64)]: Done 322 tasks      | elapsed:    2.8s\n",
      "[Parallel(n_jobs=64)]: Done 672 tasks      | elapsed:    5.2s\n",
      "[Parallel(n_jobs=64)]: Done 1122 tasks      | elapsed:    8.4s\n",
      "[Parallel(n_jobs=64)]: Done 1672 tasks      | elapsed:   12.2s\n",
      "[Parallel(n_jobs=64)]: Done 2207 out of 2207 | elapsed:   15.9s finished\n"
     ]
    }
   ],
   "source": [
    "data = Parallel(n_jobs=64, backend=\"threading\", verbose=1)(args)"
   ]
  },
  {
   "cell_type": "code",
   "execution_count": 55,
   "metadata": {
    "ExecuteTime": {
     "end_time": "2020-01-17T05:37:08.014520Z",
     "start_time": "2020-01-17T05:37:08.006521Z"
    }
   },
   "outputs": [
    {
     "data": {
      "text/plain": [
       "2207"
      ]
     },
     "execution_count": 55,
     "metadata": {},
     "output_type": "execute_result"
    }
   ],
   "source": [
    "len(data)"
   ]
  },
  {
   "cell_type": "code",
   "execution_count": 56,
   "metadata": {
    "ExecuteTime": {
     "end_time": "2020-01-17T05:37:31.365519Z",
     "start_time": "2020-01-17T05:37:29.719112Z"
    }
   },
   "outputs": [],
   "source": [
    "data_combined = pd.concat(data)"
   ]
  },
  {
   "cell_type": "markdown",
   "metadata": {},
   "source": [
    "# Nested Multiprocessing\n",
    "\n",
    "Get all csv files across 4 different paths"
   ]
  },
  {
   "cell_type": "code",
   "execution_count": 111,
   "metadata": {
    "ExecuteTime": {
     "end_time": "2020-01-20T02:19:07.620460Z",
     "start_time": "2020-01-20T02:19:07.616461Z"
    }
   },
   "outputs": [],
   "source": [
    "def get_file_date(f_name, rpath):\n",
    "    ts = f_name.replace(rpath + \"/\", \"\").replace(\".pkl\", \"\")\n",
    "    return datetime.strptime(ts, \"%Y%m%d\").date()\n",
    "\n",
    "def get_data(adl, rpath):\n",
    "    \n",
    "    pickle_files = [file for file in adl.listdir(rpath) if file.endswith(\".pkl\")]\n",
    "        \n",
    "    args = (delayed(read_pickle)(adl, file)  for file in pickle_files)\n",
    "    data = Parallel(n_jobs=64, backend=\"threading\", verbose=1)(args)\n",
    "    data = pd.concat(data)\n",
    "        \n",
    "    return data"
   ]
  },
  {
   "cell_type": "code",
   "execution_count": 112,
   "metadata": {
    "ExecuteTime": {
     "end_time": "2020-01-20T02:19:07.824453Z",
     "start_time": "2020-01-20T02:19:07.820453Z"
    }
   },
   "outputs": [],
   "source": [
    "def load_config():\n",
    "    with open(r\"K:\\Projects\\short_term_load_forecast\\stlf_deployment\\v_2_0\\src\\op_config.yml\") as fp:\n",
    "        config = yaml.load(fp, Loader=yaml.SafeLoader)\n",
    "        fp.close()\n",
    "        return config\n",
    "    \n",
    "def daterange(date1 , date2):\n",
    "    for n in range(int ((date2 - date1).days)+1):\n",
    "        yield date1 + timedelta(n)"
   ]
  },
  {
   "cell_type": "code",
   "execution_count": 113,
   "metadata": {
    "ExecuteTime": {
     "end_time": "2020-01-20T02:19:08.229231Z",
     "start_time": "2020-01-20T02:19:08.221231Z"
    }
   },
   "outputs": [],
   "source": [
    "config=load_config()\n",
    "\n",
    "rpaths=config[\"data\"]"
   ]
  },
  {
   "cell_type": "code",
   "execution_count": 114,
   "metadata": {
    "ExecuteTime": {
     "end_time": "2020-01-20T02:19:08.848572Z",
     "start_time": "2020-01-20T02:19:08.844570Z"
    }
   },
   "outputs": [
    {
     "data": {
      "text/plain": [
       "{'source_status': 'userzone/innovation/bdt/stlf/status.json',\n",
       " 'actual_demand': 'userzone/innovation/bdt/stlf/demand',\n",
       " 'actual_temp': 'userzone/innovation/bdt/stlf/actual_temp',\n",
       " 'forecast_temp': 'userzone/innovation/bdt/stlf/forecast_temp',\n",
       " 'public_holiday': 'userzone/innovation/bdt/stlf/public_holiday_v2',\n",
       " 'forecast_demand': 'userzone/innovation/bdt/stlf/forecast_result/v_2_0_0',\n",
       " 'model_img': {'rpath': 'userzone/innovation/bdt/stlf/model/v_2_0_0',\n",
       "  'lpath': '../model'}}"
      ]
     },
     "execution_count": 114,
     "metadata": {},
     "output_type": "execute_result"
    }
   ],
   "source": [
    "rpaths"
   ]
  },
  {
   "cell_type": "code",
   "execution_count": 118,
   "metadata": {
    "ExecuteTime": {
     "end_time": "2020-01-20T02:30:25.310469Z",
     "start_time": "2020-01-20T02:30:25.307467Z"
    }
   },
   "outputs": [],
   "source": [
    "paths_list = [ rpaths['actual_demand'], rpaths['actual_temp'], rpaths['forecast_temp'], rpaths['public_holiday']]"
   ]
  },
  {
   "cell_type": "code",
   "execution_count": 138,
   "metadata": {
    "ExecuteTime": {
     "end_time": "2020-01-20T07:17:29.168369Z",
     "start_time": "2020-01-20T07:17:29.165369Z"
    }
   },
   "outputs": [],
   "source": [
    "args_full = (delayed(get_data)(adl, p) for p in paths_list)"
   ]
  },
  {
   "cell_type": "code",
   "execution_count": 139,
   "metadata": {
    "ExecuteTime": {
     "end_time": "2020-01-20T07:18:08.251371Z",
     "start_time": "2020-01-20T07:17:29.923350Z"
    }
   },
   "outputs": [],
   "source": [
    "data_list = Parallel(n_jobs=len(paths_list), backend='loky')(args_full)"
   ]
  },
  {
   "cell_type": "code",
   "execution_count": 146,
   "metadata": {
    "ExecuteTime": {
     "end_time": "2020-01-20T07:27:04.111067Z",
     "start_time": "2020-01-20T07:27:04.108065Z"
    }
   },
   "outputs": [],
   "source": [
    "df_demand = data_list[0]"
   ]
  },
  {
   "cell_type": "code",
   "execution_count": 143,
   "metadata": {
    "ExecuteTime": {
     "end_time": "2020-01-20T07:26:42.768731Z",
     "start_time": "2020-01-20T07:26:42.717732Z"
    }
   },
   "outputs": [],
   "source": [
    "output_checking = pd.read_csv(r'K:\\Projects\\short_term_load_forecast\\stlf_deployment\\v_2_0\\src\\output_checking_2020-01-20.csv')"
   ]
  },
  {
   "cell_type": "code",
   "execution_count": 145,
   "metadata": {
    "ExecuteTime": {
     "end_time": "2020-01-20T07:26:59.945200Z",
     "start_time": "2020-01-20T07:26:59.940199Z"
    }
   },
   "outputs": [],
   "source": [
    "output_checking['Timestamp'] = pd.to_datetime(output_checking['Timestamp'])"
   ]
  },
  {
   "cell_type": "code",
   "execution_count": 147,
   "metadata": {
    "ExecuteTime": {
     "end_time": "2020-01-20T07:27:15.368719Z",
     "start_time": "2020-01-20T07:27:10.858859Z"
    }
   },
   "outputs": [],
   "source": [
    "compare = df_demand.merge(output_checking, how='inner', on='Timestamp')"
   ]
  },
  {
   "cell_type": "code",
   "execution_count": 149,
   "metadata": {
    "ExecuteTime": {
     "end_time": "2020-01-20T07:27:40.586939Z",
     "start_time": "2020-01-20T07:27:40.582938Z"
    }
   },
   "outputs": [],
   "source": [
    "def mean_absolute_percentage_error(df): \n",
    "    y_true = np.array(df['Demand_x'])\n",
    "    y_pred = np.array(df['Demand_y'])\n",
    "    ## Note: does not handle mix 1d representation\n",
    "    #if _is_1d(y_true): \n",
    "    #    y_true, y_pred = _check_1d_array(y_true, y_pred)\n",
    "\n",
    "    return np.mean(np.abs((y_true - y_pred) / y_true)) * 100"
   ]
  },
  {
   "cell_type": "code",
   "execution_count": 150,
   "metadata": {
    "ExecuteTime": {
     "end_time": "2020-01-20T07:27:44.721812Z",
     "start_time": "2020-01-20T07:27:44.716814Z"
    }
   },
   "outputs": [
    {
     "data": {
      "text/plain": [
       "2.551626965399655"
      ]
     },
     "execution_count": 150,
     "metadata": {},
     "output_type": "execute_result"
    }
   ],
   "source": [
    "mean_absolute_percentage_error(compare)"
   ]
  },
  {
   "cell_type": "code",
   "execution_count": 154,
   "metadata": {
    "ExecuteTime": {
     "end_time": "2020-01-20T07:28:19.349614Z",
     "start_time": "2020-01-20T07:28:19.342617Z"
    }
   },
   "outputs": [],
   "source": [
    "%matplotlib inline"
   ]
  },
  {
   "cell_type": "code",
   "execution_count": 155,
   "metadata": {
    "ExecuteTime": {
     "end_time": "2020-01-20T07:28:19.775605Z",
     "start_time": "2020-01-20T07:28:19.516613Z"
    }
   },
   "outputs": [
    {
     "data": {
      "text/plain": [
       "<matplotlib.axes._subplots.AxesSubplot at 0x19d3cf9af98>"
      ]
     },
     "execution_count": 155,
     "metadata": {},
     "output_type": "execute_result"
    },
    {
     "data": {
      "image/png": "[encoded data removed]",
      "text/plain": [
       "<Figure size 432x288 with 1 Axes>"
      ]
     },
     "metadata": {
      "needs_background": "light"
     },
     "output_type": "display_data"
    }
   ],
   "source": [
    "compare.set_index('Timestamp').plot()"
   ]
  },
  {
   "cell_type": "code",
   "execution_count": null,
   "metadata": {},
   "outputs": [],
   "source": []
  },
  {
   "cell_type": "code",
   "execution_count": null,
   "metadata": {},
   "outputs": [],
   "source": []
  }
 ],
 "metadata": {
  "kernelspec": {
   "display_name": "tf2_k_j",
   "language": "python",
   "name": "tf2_k_j"
  },
  "language_info": {
   "codemirror_mode": {
    "name": "ipython",
    "version": 3
   },
   "file_extension": ".py",
   "mimetype": "text/x-python",
   "name": "python",
   "nbconvert_exporter": "python",
   "pygments_lexer": "ipython3",
   "version": "3.6.5"
  },
  "toc": {
   "base_numbering": 1,
   "nav_menu": {},
   "number_sections": true,
   "sideBar": true,
   "skip_h1_title": false,
   "title_cell": "Table of Contents",
   "title_sidebar": "Contents",
   "toc_cell": false,
   "toc_position": {},
   "toc_section_display": true,
   "toc_window_display": false
  }
 },
 "nbformat": 4,
 "nbformat_minor": 2
}
